{
 "cells": [
  {
   "cell_type": "markdown",
   "id": "54f81ed5-74e6-4ea4-93dd-afe9029d6690",
   "metadata": {},
   "source": [
    "#### Numpy\n",
    "-Numpy is an opean-source libarary in python that provides support for large,multi-dimensional arrays and matrices,along with a collection of mathematical functions to operate on these arrays.\n",
    "KEY Features:\n",
    "-Efficient storage-numpy arrays use less memory.\n",
    "-performance-operations are implemented in c and optimized for performance.\n",
    "-interoperability-works seamlessly with many other scientific lib like scipy,pandas,and matplotlib.\n",
    "ARRAY AND MATRIX\n",
    "ARRAY(NDARRAY)\n"
   ]
  },
  {
   "cell_type": "markdown",
   "id": "4113248a-a30b-4a2b-96de-e0e2baae703f",
   "metadata": {},
   "source": [
    " DIFFERENEC BETWEEN RANGE AND ARANGE\n",
    "\n",
    "RANGE:\n",
    "-Generate a sequence of numbers.\n",
    "parameters:\n",
    "range(Start,Stop,Step)\n",
    "-Start->(default is 0) starting point of the sequence.\n",
    "-Stop->(required) the end point.\n",
    "-Step->(default is 1) the difference between each number.\n"
   ]
  },
  {
   "cell_type": "code",
   "execution_count": 1,
   "id": "04542528-0164-49fe-8052-c394e39f30f7",
   "metadata": {},
   "outputs": [
    {
     "name": "stdout",
     "output_type": "stream",
     "text": [
      "0\n",
      "1\n",
      "2\n",
      "3\n",
      "4\n",
      "5\n",
      "6\n",
      "7\n",
      "8\n"
     ]
    }
   ],
   "source": [
    "for i in range(9):\n",
    "    print(i)"
   ]
  },
  {
   "cell_type": "markdown",
   "id": "39da4987-9f41-4920-a7da-7d6be204b16f",
   "metadata": {},
   "source": [
    "ARANGE:\n",
    "\n",
    "->A function provided by the numpy lib to create a numpy array with evenly spaced values.\n",
    "\n",
    "->USeful when working with numpy for mathematical operations on arrays.\n",
    "PARAMETERS:\n",
    "\n",
    "numpy.arange(Start,Stop,Step)\n",
    "-Start->(default is 0) Starting poitn of the sequence.\n",
    "-Stop->(required) the end point.\n",
    "-Step->(default is 1) the difference between each number,and be a float.\n"
   ]
  },
  {
   "cell_type": "code",
   "execution_count": 1,
   "id": "133ce511-3350-4162-a1fd-9c53281c706d",
   "metadata": {},
   "outputs": [
    {
     "name": "stdout",
     "output_type": "stream",
     "text": [
      "[0 1 2 3 4 5]\n"
     ]
    }
   ],
   "source": [
    "import numpy as np\n",
    "arr=np.arange(6)\n",
    "print(arr)"
   ]
  },
  {
   "cell_type": "code",
   "execution_count": 7,
   "id": "cf72fc77-2cf4-43ac-b44c-d8703cbca521",
   "metadata": {},
   "outputs": [
    {
     "name": "stdout",
     "output_type": "stream",
     "text": [
      "[1 2 3 4 5 6 7]\n"
     ]
    }
   ],
   "source": [
    "#Numpy arrays(ndarray)\n",
    "#->using np.array(): convert to python list to numpy array.\n",
    "import numpy as np\n",
    "list=[1,2,3,4,5,6,7]\n",
    "newarr=np.array(list)\n",
    "print(newarr)"
   ]
  },
  {
   "cell_type": "markdown",
   "id": "79ea32fa-c638-4a6f-b619-5724cda6e112",
   "metadata": {},
   "source": [
    "USING np.zero(),np.ones(),np.empty():\n",
    "#### np.zero(shape):create an array filled with zeros.\n",
    "#### np.ones(shape):crate an array filled with ones.\n",
    "#### np.empty(shape):create an array without initializing its values-values will be random.\n"
   ]
  },
  {
   "cell_type": "code",
   "execution_count": 3,
   "id": "c587bc4f-40c8-4ca1-9a0a-b5d88cd675e5",
   "metadata": {},
   "outputs": [
    {
     "name": "stdout",
     "output_type": "stream",
     "text": [
      "[[0. 0. 0.]\n",
      " [0. 0. 0.]]\n"
     ]
    }
   ],
   "source": [
    "#np.zeros()\n",
    "zeros=np.zeros((2,3))\n",
    "print(zeros)\n",
    "               "
   ]
  },
  {
   "cell_type": "code",
   "execution_count": 5,
   "id": "6863de7f-6fb6-471e-b118-a7471b735fb4",
   "metadata": {},
   "outputs": [
    {
     "name": "stdout",
     "output_type": "stream",
     "text": [
      "[[1. 1. 1.]\n",
      " [1. 1. 1.]]\n"
     ]
    }
   ],
   "source": [
    "#np.noes()\n",
    "ones=np.ones((2,3))\n",
    "print(ones)"
   ]
  },
  {
   "cell_type": "code",
   "execution_count": 11,
   "id": "121f28a1-c000-4f37-af1f-fdbe9dcde43b",
   "metadata": {},
   "outputs": [
    {
     "name": "stdout",
     "output_type": "stream",
     "text": [
      "[[2.12199579e-314 1.16073170e-311]\n",
      " [8.43864123e-321 6.95187041e-310]]\n"
     ]
    }
   ],
   "source": [
    "#np.empty()\n",
    "empty=np.empty((2,2))\n",
    "print(empty)"
   ]
  },
  {
   "cell_type": "markdown",
   "id": "a9b799cf-73d1-4e76-9369-d2f4a5ed72b3",
   "metadata": {},
   "source": [
    "## USING np.arange(),np.linspace()\n",
    "#### np.arange(start,stop,step)-similar to python range but returns an array.\n",
    "#### np.linspace(start,stop,num)-generates number evenly spaced values between start and stop."
   ]
  },
  {
   "cell_type": "code",
   "execution_count": 15,
   "id": "0bf5306b-028a-4bfa-86a5-6b010907ac18",
   "metadata": {},
   "outputs": [
    {
     "name": "stdout",
     "output_type": "stream",
     "text": [
      "[0 2 4 6 8]\n"
     ]
    }
   ],
   "source": [
    "#np.arange()\n",
    "range=np.arange(0,10,2)\n",
    "print(range)\n"
   ]
  },
  {
   "cell_type": "code",
   "execution_count": 19,
   "id": "1a80295e-67aa-4320-98a3-a73924971353",
   "metadata": {},
   "outputs": [
    {
     "name": "stdout",
     "output_type": "stream",
     "text": [
      "[0.  0.5 1.  1.5 2. ]\n"
     ]
    }
   ],
   "source": [
    "#np.linspace()\n",
    "linspace=np.linspace(0,2,5)\n",
    "print(linspace)"
   ]
  },
  {
   "cell_type": "markdown",
   "id": "c30552c4-c046-4c11-b67d-076eb3164fe6",
   "metadata": {},
   "source": [
    "## PROPERTIES OF NUMPY ARRAYS\n",
    " ##### SHAPE:THE DIMENSIONS OF THE ARRAY\n",
    " ##### data type: use dtype to specify the data type of the array elements.\n",
    " - Number of data types np.int32,np.int64,np.float32,np.float64,np.complex,np.bool_,etc."
   ]
  },
  {
   "cell_type": "code",
   "execution_count": 27,
   "id": "ea297b4a-d91f-405c-91f4-2bf13c91f941",
   "metadata": {},
   "outputs": [
    {
     "name": "stdout",
     "output_type": "stream",
     "text": [
      "(2, 3)\n"
     ]
    }
   ],
   "source": [
    "arr=np.shape([[1,2,3],[4,6,7]])\n",
    "print(arr)"
   ]
  },
  {
   "cell_type": "markdown",
   "id": "dd87f84b-f8a9-4033-aa7e-af1a8ced9748",
   "metadata": {},
   "source": [
    "## ARRAY MANIPULATIONS\n",
    " ##### Reshaping and Resizing\n",
    " ##### Reshape: change the shape of an array without changing its data.\n"
   ]
  },
  {
   "cell_type": "code",
   "execution_count": 45,
   "id": "84a677aa-cadc-4b5d-aa36-da245ac07571",
   "metadata": {},
   "outputs": [
    {
     "name": "stdout",
     "output_type": "stream",
     "text": [
      "[0 1 2 3 4 5]\n",
      "[[0 1 2]\n",
      " [3 4 5]]\n"
     ]
    }
   ],
   "source": [
    "a=np.arange(6)\n",
    "print(a)\n",
    "b=a.reshape((2,3))\n",
    "print(b)"
   ]
  },
  {
   "cell_type": "markdown",
   "id": "4ab556c9-48ed-4409-b5ab-633ed349ee6d",
   "metadata": {},
   "source": [
    "#### flattening: converting multi-dimensional array into one-dimensional array using flatten() or ravel().\n",
    "#### Transposing: Swap rows with columns using T\n"
   ]
  },
  {
   "cell_type": "code",
   "execution_count": 49,
   "id": "8e6097d1-201d-4e28-b7f7-a10afe366d79",
   "metadata": {},
   "outputs": [
    {
     "name": "stdout",
     "output_type": "stream",
     "text": [
      "[1 2 3 4 5 6 7 8 9]\n"
     ]
    }
   ],
   "source": [
    "arr=np.array([[[[1,2,3],[4,5,6],[7,8,9]]]])\n",
    "newarr=arr.flatten()\n",
    "print(newarr)"
   ]
  },
  {
   "cell_type": "code",
   "execution_count": 53,
   "id": "30eef1fa-70e4-4fc0-8385-87441e556ff7",
   "metadata": {},
   "outputs": [
    {
     "name": "stdout",
     "output_type": "stream",
     "text": [
      "[[[1]\n",
      "  [4]\n",
      "  [7]]\n",
      "\n",
      " [[2]\n",
      "  [5]\n",
      "  [8]]\n",
      "\n",
      " [[3]\n",
      "  [6]\n",
      "  [9]]]\n"
     ]
    }
   ],
   "source": [
    "arr=np.array([[[1,2,3],[4,5,6],[7,8,9]]])\n",
    "newarr=arr.T\n",
    "print(newarr)"
   ]
  },
  {
   "cell_type": "markdown",
   "id": "91378060-c1d6-4ae0-b6a1-e0484410180b",
   "metadata": {},
   "source": [
    "## Concatenation and Stacking\n",
    "## Concatenate: Combine arrays along a specified axis using np.concatenate().\n",
    "## Stacking: Use np.vstack() and np.hstack() for vertical and horizontal stacking,respectively."
   ]
  },
  {
   "cell_type": "code",
   "execution_count": 73,
   "id": "0293137d-0190-4132-9a57-bf05976295da",
   "metadata": {},
   "outputs": [
    {
     "name": "stdout",
     "output_type": "stream",
     "text": [
      "[[1 2]\n",
      " [3 4]\n",
      " [5 6]]\n"
     ]
    }
   ],
   "source": [
    "#concatenate: \n",
    "a=np.array([[1,2],[3,4]])\n",
    "b=np.array([[5,6]])\n",
    "concatenated=np.concatenate((a,b),axis=0)\n",
    "print(concatenated)"
   ]
  },
  {
   "cell_type": "code",
   "execution_count": 101,
   "id": "a781970b-ed5d-40ea-90b2-a109260252ae",
   "metadata": {},
   "outputs": [
    {
     "name": "stdout",
     "output_type": "stream",
     "text": [
      "[[1 2]\n",
      " [3 4]\n",
      " [5 6]]\n"
     ]
    }
   ],
   "source": [
    "#Stacking:\n",
    "a=np.array([[1,2],[3,4]])\n",
    "b=np.array([[5,6,]])\n",
    "vstack=np.vstack((a,b))\n",
    "print(vstack)"
   ]
  },
  {
   "cell_type": "code",
   "execution_count": 111,
   "id": "4618a712-acc6-4be8-b2fa-c755a5d6cb61",
   "metadata": {},
   "outputs": [
    {
     "name": "stdout",
     "output_type": "stream",
     "text": [
      "[[1 2 5 6]\n",
      " [3 4 5 6]]\n"
     ]
    }
   ],
   "source": [
    "a=np.array([[1,2],[3,4]])\n",
    "b=np.array([[5,6]])\n",
    "b_reshaped = np.repeat(b, 2, axis=0)\n",
    "h_stack=np.hstack((a,b_reshaped))\n",
    "print(h_stack)"
   ]
  },
  {
   "cell_type": "markdown",
   "id": "a94f6d05-b866-436e-9e1e-bf2cdba66cb0",
   "metadata": {},
   "source": [
    "## indexing and slicing\n",
    " ## index: Access elements using indices\n",
    " ## slicing: Extract subarrays using slicing techniques similar to pyhton lists."
   ]
  },
  {
   "cell_type": "code",
   "execution_count": 4,
   "id": "6cc9a9a2-2603-42b7-a268-44b795f2125a",
   "metadata": {},
   "outputs": [
    {
     "name": "stdout",
     "output_type": "stream",
     "text": [
      "3\n"
     ]
    }
   ],
   "source": [
    "#index\n",
    "import numpy as np\n",
    "a=np.array([1,2,3,4,5])\n",
    "print(a[2])"
   ]
  },
  {
   "cell_type": "code",
   "execution_count": 7,
   "id": "58e1ff99-6a8c-4d29-93c9-d7add56fe480",
   "metadata": {},
   "outputs": [
    {
     "name": "stdout",
     "output_type": "stream",
     "text": [
      "[[2 3]]\n"
     ]
    }
   ],
   "source": [
    "#slicing\n",
    "b=np.array([[1,2,3,4],[5,6,7,8]])\n",
    "print(b[0:1,1:3])\n"
   ]
  },
  {
   "cell_type": "markdown",
   "id": "0fb621a0-9563-440f-856c-d91b4b20fea1",
   "metadata": {},
   "source": [
    "## ADVANCED INDEXING\n",
    " ## Boolean indexing: select elements based on conditions.\n",
    " ## fancy indexing: Access elements using an array of indices."
   ]
  },
  {
   "cell_type": "code",
   "execution_count": 9,
   "id": "4a440a9f-a5c7-4299-907a-bb5273976f52",
   "metadata": {},
   "outputs": [
    {
     "name": "stdout",
     "output_type": "stream",
     "text": [
      "[3 4 5]\n"
     ]
    }
   ],
   "source": [
    "#boolean indexing\n",
    "a=np.array([1,2,3,4,5])\n",
    "print(a[a>2])"
   ]
  },
  {
   "cell_type": "code",
   "execution_count": 31,
   "id": "57991795-41c6-435e-bcd6-59125c46510c",
   "metadata": {},
   "outputs": [
    {
     "name": "stdout",
     "output_type": "stream",
     "text": [
      "[2 5 6]\n"
     ]
    }
   ],
   "source": [
    "#fancy indexing\n",
    "a=np.array([1,2,3,4,5,6])\n",
    "indices=[1,4,5]\n",
    "print(a[indices])"
   ]
  },
  {
   "cell_type": "markdown",
   "id": "8f903707-a4be-481c-a6c6-ddc28ad5fa91",
   "metadata": {},
   "source": [
    "## BOARDCASTING\n",
    "-Broadcasting:Allows operations on array of different shapes.\n",
    "Numpy automatically expands the smaller array to match the larger array's shape.\n",
    "\n",
    "Broadcasting Rules:\n",
    "1.\tIf the arrays have a different number of dimensions, prepend the shape of the smaller array with ones until they have the same number of dimensions.\r\n",
    "2.\tCompare the shapes of the two arrays element-wise, starting from the trailing dimensions. If the sizes of the dimensions are equal or one of them is 1, broadcasting occurs.\r\n",
    "3.\tIf the sizes are incompatible, an error is raised.\r\n"
   ]
  },
  {
   "cell_type": "code",
   "execution_count": 33,
   "id": "ab4f3150-d9dc-47b0-a89c-d50983ac2b7b",
   "metadata": {},
   "outputs": [
    {
     "name": "stdout",
     "output_type": "stream",
     "text": [
      "[[2 3 4]\n",
      " [3 4 5]\n",
      " [4 5 6]]\n"
     ]
    }
   ],
   "source": [
    "a=np.array([[1],[2],[3]])\n",
    "b=np.array([1,2,3])\n",
    "c=a+b\n",
    "print(c)"
   ]
  },
  {
   "cell_type": "markdown",
   "id": "2db8b576-14cf-4304-8446-af0cb86a1875",
   "metadata": {},
   "source": [
    "## vectorized operations:\n",
    "To perform element-wise operations on entire array without using explicit loops\n"
   ]
  },
  {
   "cell_type": "code",
   "execution_count": 16,
   "id": "6b729376-dac7-4045-966b-80dff6797754",
   "metadata": {},
   "outputs": [
    {
     "name": "stdout",
     "output_type": "stream",
     "text": [
      "[ 5 12 21 32]\n"
     ]
    }
   ],
   "source": [
    "a=np.array([1,2,3,4])\n",
    "b=np.array([5,6,7,8])\n",
    "c=a+b   #element-wise add\n",
    "c=a-b   #element-wise sub\n",
    "c=a*b   #element-wise multiplication\n",
    "print(c)"
   ]
  },
  {
   "cell_type": "markdown",
   "id": "b16475c7-3520-4110-a778-9c6bb15a17c2",
   "metadata": {},
   "source": [
    "## MATHEMATICAL AND STATISTICAL FUNCTION\n",
    " NUMPY provides a comprehensive suite of mathematical functions.\n",
    "###  basic Arthimetic Operations\n",
    " addition,subtraction,multiplication,divide\n",
    " "
   ]
  },
  {
   "cell_type": "code",
   "execution_count": 18,
   "id": "f7db2a4e-f53b-47ba-814a-e79818b6e3b0",
   "metadata": {},
   "outputs": [
    {
     "name": "stdout",
     "output_type": "stream",
     "text": [
      "[ 7  9 11 13 15]\n"
     ]
    }
   ],
   "source": [
    "a=np.array([1,2,3,4,5])\n",
    "b=np.array([6,7,8,9,10])\n",
    "print(np.add(a,b))"
   ]
  },
  {
   "cell_type": "code",
   "execution_count": 20,
   "id": "d88de4aa-5855-43c6-b22b-9e1269d7719e",
   "metadata": {},
   "outputs": [
    {
     "name": "stdout",
     "output_type": "stream",
     "text": [
      "[-5 -5 -5 -5 -5]\n"
     ]
    }
   ],
   "source": [
    "print(np.subtract(a,b))"
   ]
  },
  {
   "cell_type": "code",
   "execution_count": 22,
   "id": "ac1fcef6-70dd-4b51-8607-07b195dba889",
   "metadata": {},
   "outputs": [
    {
     "name": "stdout",
     "output_type": "stream",
     "text": [
      "[ 6 14 24 36 50]\n"
     ]
    }
   ],
   "source": [
    "print(np.multiply(a,b))"
   ]
  },
  {
   "cell_type": "code",
   "execution_count": 24,
   "id": "59a00045-d83f-4293-9cf4-2815658ce6f0",
   "metadata": {},
   "outputs": [
    {
     "name": "stdout",
     "output_type": "stream",
     "text": [
      "[0.16666667 0.28571429 0.375      0.44444444 0.5       ]\n"
     ]
    }
   ],
   "source": [
    "print(np.divide(a,b))"
   ]
  },
  {
   "cell_type": "markdown",
   "id": "2f824db4-9413-44ee-b462-28dd1966b2f4",
   "metadata": {},
   "source": [
    "## Statistical Function\n",
    "Functions like np.mean(),np.median(),np.std(),np.var(),np.sum()"
   ]
  },
  {
   "cell_type": "code",
   "execution_count": 30,
   "id": "9c333fd7-072b-41e3-b48f-dca50e715e07",
   "metadata": {},
   "outputs": [
    {
     "name": "stdout",
     "output_type": "stream",
     "text": [
      "4.0\n"
     ]
    }
   ],
   "source": [
    "arr=np.array([1,2,3,4,5,6,7])\n",
    "newarr=np.mean(arr)\n",
    "print(newarr)\n"
   ]
  },
  {
   "cell_type": "code",
   "execution_count": 46,
   "id": "0b709933-3fe4-4289-a6d9-6c61296fa249",
   "metadata": {},
   "outputs": [
    {
     "name": "stdout",
     "output_type": "stream",
     "text": [
      "4.5\n"
     ]
    }
   ],
   "source": [
    "arr=np.array([1,2,3,4,5,6,7,8])\n",
    "newarr=np.median(arr)\n",
    "print(newarr)"
   ]
  },
  {
   "cell_type": "code",
   "execution_count": 48,
   "id": "1af38de0-24b4-4f81-b4f5-dfc3723d05eb",
   "metadata": {},
   "outputs": [
    {
     "name": "stdout",
     "output_type": "stream",
     "text": [
      "2.0\n"
     ]
    }
   ],
   "source": [
    "arr=np.array([1,2,3,4,5,6,7])\n",
    "newarr=np.std(arr)\n",
    "print(newarr)"
   ]
  },
  {
   "cell_type": "code",
   "execution_count": 50,
   "id": "47b7c519-d84b-431d-9371-00a5929aa865",
   "metadata": {},
   "outputs": [
    {
     "name": "stdout",
     "output_type": "stream",
     "text": [
      "45\n"
     ]
    }
   ],
   "source": [
    "arr=np.array([1,2,3,4,5,6,7,8,9])\n",
    "newarr=np.sum(arr)\n",
    "print(newarr)"
   ]
  },
  {
   "cell_type": "markdown",
   "id": "18441aec-6b0e-48fc-bd43-0cd747cd1292",
   "metadata": {},
   "source": [
    "## AGGREGATION FUNCTIONS\n",
    "Functions like np.min(),np.max(),np.argmax() return the minimum and maximum values,and the index of the maximum value,respectively."
   ]
  },
  {
   "cell_type": "code",
   "execution_count": 54,
   "id": "89035c65-c373-41c9-9ea7-0a5c7fc026e9",
   "metadata": {},
   "outputs": [
    {
     "name": "stdout",
     "output_type": "stream",
     "text": [
      "1\n"
     ]
    }
   ],
   "source": [
    "arr=np.array([[1,2,3,4],[5,6,7,8]])\n",
    "newarr=np.min(arr)\n",
    "print(newarr)"
   ]
  },
  {
   "cell_type": "code",
   "execution_count": 58,
   "id": "e179e833-3e77-4510-a963-23692d76eb4e",
   "metadata": {},
   "outputs": [
    {
     "name": "stdout",
     "output_type": "stream",
     "text": [
      "8\n"
     ]
    }
   ],
   "source": [
    "arr=np.array([1,2,3,4,5,6,7,8])\n",
    "newarr=np.max(arr)\n",
    "print(newarr)"
   ]
  },
  {
   "cell_type": "code",
   "execution_count": 60,
   "id": "58c3bc92-c374-41b6-9ab4-adf49d8dbb9b",
   "metadata": {},
   "outputs": [
    {
     "name": "stdout",
     "output_type": "stream",
     "text": [
      "7\n"
     ]
    }
   ],
   "source": [
    "arr=np.array([1,2,3,4,5,6,7,8])\n",
    "newarr=np.argmax(arr)\n",
    "print(newarr)"
   ]
  },
  {
   "cell_type": "code",
   "execution_count": 62,
   "id": "e0400e00-bfe8-4121-b647-6c1626f36169",
   "metadata": {},
   "outputs": [
    {
     "name": "stdout",
     "output_type": "stream",
     "text": [
      "0\n"
     ]
    }
   ],
   "source": [
    "arr=np.array([1,2,3,4,5,6,7,8])\n",
    "newarr=np.argmin(arr)\n",
    "print(newarr)"
   ]
  },
  {
   "cell_type": "markdown",
   "id": "804c0a76-6ba0-4ff0-a3ca-06fab3265db8",
   "metadata": {},
   "source": [
    "## UNIVERSAL FUNCTIONS(Ufuncs)\n",
    " universal functions(ufuncs):Functions are that operate element-wise on array.they are optimizeed for performance and can handle arrays of different shape and sizes.\n",
    " ##### commonly used ufuncs:\n",
    " ### mathematical functions: \n",
    " np.sin(),np.tan(),np.cos(),np.exp(),np.log(),np.sqrt(), etc...\n",
    " ### Comparison functions:\n",
    " np.greater(),np.less(),np.equal(), etc..."
   ]
  },
  {
   "cell_type": "code",
   "execution_count": 66,
   "id": "1bcf0f87-1333-4dd5-96a5-3f530bb96509",
   "metadata": {},
   "outputs": [
    {
     "name": "stdout",
     "output_type": "stream",
     "text": [
      "[0.00000000e+00 8.41470985e-01 1.00000000e+00 1.22464680e-16]\n"
     ]
    }
   ],
   "source": [
    "a=np.array([0,1,np.pi/2,np.pi])\n",
    "sin_value=np.sin(a)\n",
    "print(sin_value)"
   ]
  },
  {
   "cell_type": "code",
   "execution_count": 70,
   "id": "26890b6d-b133-421b-ba35-195c69cb3116",
   "metadata": {},
   "outputs": [
    {
     "name": "stdout",
     "output_type": "stream",
     "text": [
      "[ 1.00000000e+00  5.40302306e-01  6.12323400e-17 -1.00000000e+00]\n"
     ]
    }
   ],
   "source": [
    "a=np.array([0,1,np.pi/2,np.pi])\n",
    "cos_value=np.cos(a)\n",
    "print(cos_value)"
   ]
  },
  {
   "cell_type": "code",
   "execution_count": 72,
   "id": "a439613e-1ccd-488c-9cb3-8b93119c6c7e",
   "metadata": {},
   "outputs": [
    {
     "name": "stdout",
     "output_type": "stream",
     "text": [
      "[ 0.00000000e+00  1.55740772e+00  1.63312394e+16 -1.22464680e-16]\n"
     ]
    }
   ],
   "source": [
    "a=np.array([0,1,np.pi/2,np.pi])\n",
    "tan_value=np.tan(a)\n",
    "print(tan_value)"
   ]
  },
  {
   "cell_type": "code",
   "execution_count": 68,
   "id": "fb42e6f9-1f9f-44f9-849e-c5d24515b9dd",
   "metadata": {},
   "outputs": [
    {
     "name": "stdout",
     "output_type": "stream",
     "text": [
      "[ 1.          2.71828183  4.81047738 23.14069263]\n"
     ]
    }
   ],
   "source": [
    "a=np.array([0,1,np.pi/2,np.pi])\n",
    "exp_value=np.exp(a)\n",
    "print(exp_value)"
   ]
  },
  {
   "cell_type": "code",
   "execution_count": 76,
   "id": "82c7cf99-9b4c-43b5-9e03-5447b95af61a",
   "metadata": {},
   "outputs": [
    {
     "name": "stdout",
     "output_type": "stream",
     "text": [
      "[0.         0.69314718 0.94421571 1.42108041]\n"
     ]
    }
   ],
   "source": [
    "a=np.array([0,1,np.pi/2,np.pi])\n",
    "log_value=np.log(a+1)\n",
    "print(log_value)"
   ]
  },
  {
   "cell_type": "markdown",
   "id": "08662593-c783-4641-a9f9-04d1f2a607d1",
   "metadata": {},
   "source": [
    "##  LINEAR ALGEBRA WITH NUMPY\n",
    "Numpy provides a comprehensive set of linear algebra functions via the numpy.linalg module."
   ]
  },
  {
   "cell_type": "markdown",
   "id": "cda9d556-fa81-4a18-a55c-5ba04f173eb0",
   "metadata": {},
   "source": [
    "### Matrix operations\n",
    "MATRIX MULTIPLICATIONS:Use np.dot() or the @ operator for the matrix multiplication."
   ]
  },
  {
   "cell_type": "code",
   "execution_count": 78,
   "id": "2c6bc9ab-32c8-426a-866b-144e979094e7",
   "metadata": {},
   "outputs": [
    {
     "name": "stdout",
     "output_type": "stream",
     "text": [
      "[[21 24]\n",
      " [47 54]]\n"
     ]
    }
   ],
   "source": [
    "a=np.array([[1,2],[3,4]])\n",
    "b=np.array([[5,6],[8,9]])\n",
    "c=np.dot(a,b)\n",
    "print(c)"
   ]
  },
  {
   "cell_type": "code",
   "execution_count": 80,
   "id": "7c05ba44-cc86-4834-ad10-2fe3e42773e2",
   "metadata": {},
   "outputs": [
    {
     "name": "stdout",
     "output_type": "stream",
     "text": [
      "[[21 24]\n",
      " [47 54]]\n"
     ]
    }
   ],
   "source": [
    "c=a@b\n",
    "print(c)"
   ]
  },
  {
   "cell_type": "markdown",
   "id": "3e7f17e4-a196-4d30-a146-42d763173c10",
   "metadata": {},
   "source": [
    "## Determinants and Inverses\n",
    "#### Determinant:\n",
    "Calculate the determinant of a matrix using np.linalg.det().\n",
    "#### inverse:\n",
    "Find the inverse of matrix using np.linalg.inv()."
   ]
  },
  {
   "cell_type": "code",
   "execution_count": 92,
   "id": "fb1e9a5b-d1d2-4148-b5aa-a25adb480ccf",
   "metadata": {},
   "outputs": [
    {
     "name": "stdout",
     "output_type": "stream",
     "text": [
      "4.0\n"
     ]
    }
   ],
   "source": [
    "#Determinant:\n",
    "a=np.array([[1,0],[0,4]])\n",
    "det_a=np.linalg.det(a)\n",
    "print(det_a)"
   ]
  },
  {
   "cell_type": "code",
   "execution_count": 96,
   "id": "98116d0f-894b-44ac-8023-748f5c95b0b7",
   "metadata": {},
   "outputs": [
    {
     "name": "stdout",
     "output_type": "stream",
     "text": [
      "[[1. 0.]\n",
      " [0. 1.]]\n"
     ]
    }
   ],
   "source": [
    "#inverse\n",
    "a=np.array([[1,0],[0,1]])\n",
    "inv_a=np.linalg.inv(a)\n",
    "print(inv_a)"
   ]
  },
  {
   "cell_type": "markdown",
   "id": "7ff3cf30-015f-41ce-a38f-58e52cd1a37b",
   "metadata": {},
   "source": [
    "## EIGENVALUES AND EIGENVECTORS\n",
    "\n",
    "#### Eignvalues:\n",
    "•\tDefinition: Scalars that provide information about the behavior of linear transformations represented by a matrix.\r",
    "•o\tInterpretation: When a matrix is multiplied by an eigenvector, the result is simply the eigenvector scaled by the eigenvalue.•\n",
    "o\tExample: If A is a matrix and λ is an eigenvalue, the equation is: Av= λv\r\n",
    " Here, v is the eigenvecto#### Eginvectors:\n",
    "•\tDefinition: Scalars that provide information about the behavior of linear transformations represented by a matrix.\r",
    "•o\tInterpretation: When a matrix is multiplied by an eigenvector, the result is simply the eigenvector scaled by the eigenvalue.•\n",
    "o\tExample: If A is a matrix and λ is an eigenvalue, the equation is: Av= λv\r\n",
    " Here, v is the eigenvector.\r\n",
    "r.\r\n"
   ]
  },
  {
   "cell_type": "markdown",
   "id": "595361c0-f048-4c4a-8b95-936a3431920c",
   "metadata": {},
   "source": [
    "#### Finding Eigenvalues and Eigenvectors:\n",
    "•\tCharacteristic Polynomial: To find eigenvalues, solve the characteristic polynomial given by:\n",
    "det(A−λI)=0\n",
    "where I is the identity matrix.\n"
   ]
  },
  {
   "cell_type": "code",
   "execution_count": 122,
   "id": "dd7bab67-bedc-465f-a765-639254934fbd",
   "metadata": {},
   "outputs": [
    {
     "name": "stdout",
     "output_type": "stream",
     "text": [
      "[5. 2.] [[ 0.89442719 -0.70710678]\n",
      " [ 0.4472136   0.70710678]]\n"
     ]
    }
   ],
   "source": [
    "import numpy as np\n",
    "#create matrix\n",
    "a=np.array([[4,2],[1,3]])\n",
    "#calculate eignvalues and eignvectors\n",
    "eignvalues,eignvectors=np.linalg.eig(a)\n",
    "print(eignvalues,eignvectors)"
   ]
  },
  {
   "cell_type": "code",
   "execution_count": 118,
   "id": "96b2bf77-e7c6-4f11-969b-c954ca527cf9",
   "metadata": {},
   "outputs": [
    {
     "name": "stdout",
     "output_type": "stream",
     "text": [
      "Eigenvalues: [5. 2.]\n"
     ]
    }
   ],
   "source": [
    "print(\"Eigenvalues:\",eignvalues)"
   ]
  },
  {
   "cell_type": "code",
   "execution_count": 116,
   "id": "bf9c2ecf-53e3-4321-8d99-6bff2819033d",
   "metadata": {},
   "outputs": [
    {
     "name": "stdout",
     "output_type": "stream",
     "text": [
      "Eigevectors: [[ 0.89442719 -0.70710678]\n",
      " [ 0.4472136   0.70710678]]\n"
     ]
    }
   ],
   "source": [
    "print(\"Eigevectors:\",eignvectors)"
   ]
  },
  {
   "cell_type": "markdown",
   "id": "2a562ee1-de13-418e-a0cf-b182a3ca6470",
   "metadata": {},
   "source": [
    "## Intuition Behind Eigenvalues and Eigenvectors:\r",
    "#### \n",
    "•\tVisual Representation:•\n",
    "o\tImagine applying a transformation represented by a matrix A to a vector. Most vectors will change direction and length. However, eigenvectors are special; they only get stretched or compressed by the eigenvalue factor without changing their direction#### .\r\n",
    "•\tApplications: Eigenvalues and eigenvectors have significant applications in various fields, includin•:\r\n",
    "o\tPrincipal Component Analysis (PCA) in machine learning for dimensionality reducti•n.\r\n",
    "o\tStability analysis in systems of differential equatio•\tCalculate eigenvalues and eigenvectors using np.linalg.eig().ns.\r\n",
    "\r\n"
   ]
  },
  {
   "cell_type": "code",
   "execution_count": 132,
   "id": "ba0acd59-b143-4d30-956d-ceb2b978e789",
   "metadata": {},
   "outputs": [
    {
     "name": "stdout",
     "output_type": "stream",
     "text": [
      "[5. 2.] [[ 0.89442719 -0.70710678]\n",
      " [ 0.4472136   0.70710678]]\n"
     ]
    }
   ],
   "source": [
    "a=np.array([[4,2],[1,3]])\n",
    "eignvalues,eignvectors=np.linalg.eig(a)\n",
    "print(eignvalues,eignvectors)"
   ]
  },
  {
   "cell_type": "markdown",
   "id": "b4a0c3cb-a7e2-464a-9d8c-78695dca5012",
   "metadata": {},
   "source": [
    "## Solving Linear Systems:\n",
    "-->Using np.linalg.solve() \n",
    "to solve a system of linear equations represented as Ax=bAx=bAx=b"
   ]
  },
  {
   "cell_type": "code",
   "execution_count": 136,
   "id": "12a27948-129d-498e-b740-87bec8ced0b8",
   "metadata": {},
   "outputs": [
    {
     "name": "stdout",
     "output_type": "stream",
     "text": [
      "[2. 3.]\n"
     ]
    }
   ],
   "source": [
    "a=np.array([[3,1],[1,2]])\n",
    "b=np.array([9,8])\n",
    "x=np.linalg.solve(a,b)\n",
    "print(x)"
   ]
  },
  {
   "cell_type": "markdown",
   "id": "3b2aa587-1758-4b4c-945b-06edf2719ed6",
   "metadata": {},
   "source": [
    "## Random Number Generation\n",
    "Numpy's random module provieds various functions for generating random numbers,making it essential for simulations and testing"
   ]
  },
  {
   "cell_type": "markdown",
   "id": "f1e21a51-3c2e-4695-a23c-6d9dac2d4229",
   "metadata": {},
   "source": [
    "## Generating random Numbers\n",
    "#### Uniform Distribution:\n",
    "np.random.rand() generates numbers uniformly distributed between[0,1).\n",
    "#### Normal Distribution:\n",
    "np.random.randn() generates numbers from a standard normal distribution(mean=0,std=1)"
   ]
  },
  {
   "cell_type": "code",
   "execution_count": 138,
   "id": "6feb0ead-47cd-44e1-9cae-d1ea91736be3",
   "metadata": {},
   "outputs": [
    {
     "name": "stdout",
     "output_type": "stream",
     "text": [
      "[[0.21144692 0.76849469]\n",
      " [0.8301182  0.26628747]\n",
      " [0.6761354  0.17387984]]\n"
     ]
    }
   ],
   "source": [
    "## uniform distribution\n",
    "uniform_random=np.random.rand(3,2)\n",
    "print(uniform_random)"
   ]
  },
  {
   "cell_type": "code",
   "execution_count": 144,
   "id": "e1ce5110-2cfe-4587-ab8f-7a47f0cf4cb4",
   "metadata": {},
   "outputs": [
    {
     "name": "stdout",
     "output_type": "stream",
     "text": [
      "[[ 0.20152376  2.26440656]\n",
      " [ 0.28750404 -0.82896829]\n",
      " [-1.82568663 -0.26966877]]\n"
     ]
    }
   ],
   "source": [
    "## normal distribution\n",
    "normal_randoms=np.random.randn(3,2)\n",
    "print(normal_randoms)"
   ]
  },
  {
   "cell_type": "markdown",
   "id": "182ea9de-63c2-4be7-ba8a-f5f29bc8a4bb",
   "metadata": {},
   "source": [
    "#### Random Integers\n",
    "Generate random integers with np.random.randint(low,high,size)."
   ]
  },
  {
   "cell_type": "code",
   "execution_count": 146,
   "id": "81b7e10e-7ead-48f6-929d-b519f1501a00",
   "metadata": {},
   "outputs": [
    {
     "name": "stdout",
     "output_type": "stream",
     "text": [
      "[[2 8 8]\n",
      " [8 8 9]]\n"
     ]
    }
   ],
   "source": [
    "random_integer=np.random.randint(1,10,size=(2,3))\n",
    "print(random_integer)"
   ]
  },
  {
   "cell_type": "markdown",
   "id": "a801d9a1-bb29-4004-b763-b9ab491ec90d",
   "metadata": {},
   "source": [
    "#### random Sampling\n",
    "Randomly shuffle an array using np.random.shuffle()."
   ]
  },
  {
   "cell_type": "code",
   "execution_count": 150,
   "id": "d7e7d9fa-64a9-4d8b-9ef8-23661249b244",
   "metadata": {},
   "outputs": [
    {
     "name": "stdout",
     "output_type": "stream",
     "text": [
      "[ 1  5  3  4  8  9  6  2 10  7]\n"
     ]
    }
   ],
   "source": [
    "a=np.array([1,2,3,4,5,6,7,8,9,10])\n",
    "np.random.shuffle(a)\n",
    "print(a)"
   ]
  },
  {
   "cell_type": "markdown",
   "id": "4ba29161-58ae-4e1a-8e27-901b84cc6bcc",
   "metadata": {},
   "source": [
    "#### random Splitting\n",
    "array using np.split()-divides an array into multiple sub-arrays.\n"
   ]
  },
  {
   "cell_type": "code",
   "execution_count": 162,
   "id": "de81ddae-cf3a-4ea2-8331-c7d0a433b5cc",
   "metadata": {},
   "outputs": [
    {
     "name": "stdout",
     "output_type": "stream",
     "text": [
      "[array([1, 2, 3]), array([4, 5, 6]), array([7, 8, 9])]\n"
     ]
    }
   ],
   "source": [
    "a=np.array([1,2,3,4,5,6,7,8,9])\n",
    "b=np.split(a,3)\n",
    "print(b)"
   ]
  }
 ],
 "metadata": {
  "kernelspec": {
   "display_name": "Python 3 (ipykernel)",
   "language": "python",
   "name": "python3"
  },
  "language_info": {
   "codemirror_mode": {
    "name": "ipython",
    "version": 3
   },
   "file_extension": ".py",
   "mimetype": "text/x-python",
   "name": "python",
   "nbconvert_exporter": "python",
   "pygments_lexer": "ipython3",
   "version": "3.12.4"
  }
 },
 "nbformat": 4,
 "nbformat_minor": 5
}
