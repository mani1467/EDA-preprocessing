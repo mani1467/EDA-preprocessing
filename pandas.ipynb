{
 "cells": [
  {
   "cell_type": "markdown",
   "id": "b2c2dfd1-860e-4f6e-8aaf-34d8e31d8e4a",
   "metadata": {},
   "source": [
    "### PANDAS"
   ]
  },
  {
   "cell_type": "markdown",
   "id": "520c7aab-d395-4d0f-8b46-5c1806a9334f",
   "metadata": {},
   "source": [
    "1. Pandas is a pyhton library used for working with data set.\n",
    "2. its has functions for analyzing,cleaning,exploring and manipulating data.\n",
    "3. the name 'pandas' has reference to both 'panel data' and python data analyzing."
   ]
  },
  {
   "cell_type": "markdown",
   "id": "4a737de1-c7d1-4919-90cf-3df3c9320faf",
   "metadata": {},
   "source": [
    "#### Why Use pandas:\n",
    "1.pandas allows to us analyzing big data and make conclusions based on Statistical theories.\n",
    "2.pandas can clean messy data sets.and make them readble and relevent.\n",
    "3.Relevant data is very important in data science."
   ]
  },
  {
   "cell_type": "markdown",
   "id": "e2bf5bc3-4089-4a4d-aaed-32611b66c991",
   "metadata": {},
   "source": [
    "#### What can pandas do:\n",
    "1.Is there a correlation between two or more columns?\n",
    "2.what is avg value?\n",
    "3.max value?\n",
    "4.min value?"
   ]
  },
  {
   "cell_type": "markdown",
   "id": "3d8619d2-5703-45eb-89e9-60681abd7f4c",
   "metadata": {},
   "source": [
    "Pandas are also able to delete rows that are not relevant,or contains wrong values,like empty or null values.this is called cleaning the data."
   ]
  },
  {
   "cell_type": "markdown",
   "id": "4d030002-fab7-4e1e-80d4-05699c99b7aa",
   "metadata": {},
   "source": [
    "###### installation\n",
    "pip install pandas"
   ]
  },
  {
   "cell_type": "markdown",
   "id": "6102de6b-63a4-493a-8bf9-9c0535b69ed3",
   "metadata": {},
   "source": [
    "#### key data structures\n",
    "##### Series: \n",
    "A one-dimensional labeled array capable of holding any data type(integer,string,floats).      "
   ]
  },
  {
   "cell_type": "code",
   "execution_count": 3,
   "id": "82c80fb9-5064-437e-8b09-538553751092",
   "metadata": {},
   "outputs": [
    {
     "name": "stdout",
     "output_type": "stream",
     "text": [
      "a    1\n",
      "b    2\n",
      "c    3\n",
      "d    4\n",
      "dtype: int64\n"
     ]
    }
   ],
   "source": [
    "import pandas as pd\n",
    "s=pd.Series([1,2,3,4],index=['a','b','c','d'])\n",
    "print(s)\n"
   ]
  },
  {
   "cell_type": "markdown",
   "id": "f4ff81ed-502e-4476-920b-12461423c084",
   "metadata": {},
   "source": [
    "#### Data Frame:\n",
    "A two-dimensional labeled data structure with columns of potentially different types,similar to a spreadsheet or sql table."
   ]
  },
  {
   "cell_type": "code",
   "execution_count": 73,
   "id": "ee8aaf32-e225-4e11-9517-26bceec9d564",
   "metadata": {},
   "outputs": [
    {
     "name": "stdout",
     "output_type": "stream",
     "text": [
      "    name  age      city\n",
      "0  alice   23  new york\n",
      "1   mani   20       snk\n",
      "2   vasu   21      snkm\n",
      "3   ravi   21      antp\n"
     ]
    }
   ],
   "source": [
    "data={ 'name':['alice','mani','vasu','ravi'],\n",
    "      'age':[23,20,21,21],\n",
    "      'city':['new york','snk','snkm','antp']}\n",
    "df=pd.DataFrame(data)\n",
    "print(df)\n",
    "      "
   ]
  },
  {
   "cell_type": "markdown",
   "id": "58f46569-c0ea-4619-a610-748b75ddfee7",
   "metadata": {},
   "source": [
    "## DataFrame Manipulations\n",
    "##### Accessing Data:"
   ]
  },
  {
   "cell_type": "code",
   "execution_count": 75,
   "id": "363d39b3-d627-4a2f-9f34-7d4ee9b98cce",
   "metadata": {},
   "outputs": [
    {
     "name": "stdout",
     "output_type": "stream",
     "text": [
      "0    alice\n",
      "1     mani\n",
      "2     vasu\n",
      "3     ravi\n",
      "Name: name, dtype: object\n"
     ]
    }
   ],
   "source": [
    "## By column:\n",
    "print(df['name'])"
   ]
  },
  {
   "cell_type": "code",
   "execution_count": 77,
   "id": "0e2b3fda-4b2c-458f-9356-5df1caac4b02",
   "metadata": {},
   "outputs": [
    {
     "name": "stdout",
     "output_type": "stream",
     "text": [
      "name       alice\n",
      "age           23\n",
      "city    new york\n",
      "Name: 0, dtype: object\n"
     ]
    }
   ],
   "source": [
    "## By row:\n",
    "print(df.loc[0])"
   ]
  },
  {
   "cell_type": "markdown",
   "id": "c4d6f8ea-e5ce-417f-ba14-9028e25f8f9d",
   "metadata": {},
   "source": [
    "### Filtering Data:"
   ]
  },
  {
   "cell_type": "code",
   "execution_count": 79,
   "id": "d6f0d5ab-a462-429d-9c06-eac1857768fa",
   "metadata": {},
   "outputs": [
    {
     "name": "stdout",
     "output_type": "stream",
     "text": [
      "    name  age      city\n",
      "0  alice   23  new york\n",
      "2   vasu   21      snkm\n",
      "3   ravi   21      antp\n"
     ]
    }
   ],
   "source": [
    "filtered_df=df[df['age']>20]\n",
    "print(filtered_df)"
   ]
  },
  {
   "cell_type": "markdown",
   "id": "1f50feb6-5831-4e3e-9a52-84584b8ea24d",
   "metadata": {},
   "source": [
    "### Adding New Columns:"
   ]
  },
  {
   "cell_type": "code",
   "execution_count": 81,
   "id": "8f59c6de-aa2d-4b72-8fe6-afd83119eba4",
   "metadata": {},
   "outputs": [
    {
     "name": "stdout",
     "output_type": "stream",
     "text": [
      "    name  age      city  salary\n",
      "0  alice   23  new york   50000\n",
      "1   mani   20       snk   60000\n",
      "2   vasu   21      snkm   70000\n",
      "3   ravi   21      antp   40000\n"
     ]
    }
   ],
   "source": [
    "df['salary']=[50000,60000,70000,40000]\n",
    "print(df)"
   ]
  },
  {
   "cell_type": "markdown",
   "id": "402876e3-b42a-4132-8387-23b85b37ed19",
   "metadata": {},
   "source": [
    "## Handling Missing Data"
   ]
  },
  {
   "cell_type": "markdown",
   "id": "d12424e2-12a4-423d-a257-fccbfcf088be",
   "metadata": {},
   "source": [
    "##### Identifying Missing values:"
   ]
  },
  {
   "cell_type": "code",
   "execution_count": 83,
   "id": "ca0270b1-ed8a-4ba8-82c8-545ca313a9cf",
   "metadata": {},
   "outputs": [
    {
     "name": "stdout",
     "output_type": "stream",
     "text": [
      "    name    age   city  salary\n",
      "0  False  False  False   False\n",
      "1  False   True  False   False\n",
      "2  False  False  False   False\n",
      "3  False  False  False   False\n"
     ]
    }
   ],
   "source": [
    "df.loc[1,'age']=None\n",
    "print(df.isnull())"
   ]
  },
  {
   "cell_type": "markdown",
   "id": "18661529-8a06-4a35-a517-520c85de0528",
   "metadata": {},
   "source": [
    "##### FILLING MISSING VALUES:"
   ]
  },
  {
   "cell_type": "code",
   "execution_count": 85,
   "id": "2616af3c-ed74-4182-bdb4-22bc873d03b8",
   "metadata": {},
   "outputs": [
    {
     "name": "stdout",
     "output_type": "stream",
     "text": [
      "    name   age      city  salary\n",
      "0  alice  23.0  new york   50000\n",
      "1   mani  21.0       snk   60000\n",
      "2   vasu  21.0      snkm   70000\n",
      "3   ravi  21.0      antp   40000\n"
     ]
    },
    {
     "name": "stderr",
     "output_type": "stream",
     "text": [
      "C:\\Users\\kamis\\AppData\\Local\\Temp\\ipykernel_14884\\2557212624.py:1: FutureWarning: A value is trying to be set on a copy of a DataFrame or Series through chained assignment using an inplace method.\n",
      "The behavior will change in pandas 3.0. This inplace method will never work because the intermediate object on which we are setting values always behaves as a copy.\n",
      "\n",
      "For example, when doing 'df[col].method(value, inplace=True)', try using 'df.method({col: value}, inplace=True)' or df[col] = df[col].method(value) instead, to perform the operation inplace on the original object.\n",
      "\n",
      "\n",
      "  df['age'].fillna(df['age'].median(),inplace=True)\n"
     ]
    }
   ],
   "source": [
    "df['age'].fillna(df['age'].median(),inplace=True)\n",
    "print(df)"
   ]
  },
  {
   "cell_type": "markdown",
   "id": "7b44a675-083d-453b-90fb-eac1dfefdff8",
   "metadata": {},
   "source": [
    "#### Dropping Missing values:\n",
    "Drop rows with NaN values"
   ]
  },
  {
   "cell_type": "code",
   "execution_count": 87,
   "id": "3155dc30-5b23-46da-8503-1d03d06745f8",
   "metadata": {},
   "outputs": [
    {
     "name": "stdout",
     "output_type": "stream",
     "text": [
      "    name   age      city  salary\n",
      "0  alice  23.0  new york   50000\n",
      "1   mani  21.0       snk   60000\n",
      "2   vasu  21.0      snkm   70000\n",
      "3   ravi  21.0      antp   40000\n"
     ]
    }
   ],
   "source": [
    "df.dropna(inplace=False)\n",
    "print(df)"
   ]
  },
  {
   "cell_type": "markdown",
   "id": "9078c2cd-9da3-4e5a-b665-ce6962980969",
   "metadata": {},
   "source": [
    "## DATA AGGREGATION AND GROUPING"
   ]
  },
  {
   "cell_type": "markdown",
   "id": "497bad23-8b55-41a0-b144-5dba0720f991",
   "metadata": {},
   "source": [
    "##### Group by:"
   ]
  },
  {
   "cell_type": "code",
   "execution_count": 91,
   "id": "658df473-a534-4218-9bc4-b1a1d21aa2f0",
   "metadata": {},
   "outputs": [
    {
     "name": "stdout",
     "output_type": "stream",
     "text": [
      "Empty DataFrame\n",
      "Columns: [name, age, salary]\n",
      "Index: [] name       mani\n",
      "age        21.0\n",
      "city        NaN\n",
      "salary    60000\n",
      "Name: 1, dtype: object\n"
     ]
    }
   ],
   "source": [
    "df['city'] = pd.to_numeric(df['city'], errors='coerce')\n",
    "\n",
    "grouped=df.groupby('city').mean()\n",
    "print(grouped,df.loc[1])"
   ]
  },
  {
   "cell_type": "markdown",
   "id": "d4bcd868-b811-4652-81dd-3664eb350eae",
   "metadata": {},
   "source": [
    "### Aggregating Data:"
   ]
  },
  {
   "cell_type": "code",
   "execution_count": 33,
   "id": "b1b4065b-4e4b-424f-9217-ffdef46bde10",
   "metadata": {},
   "outputs": [
    {
     "name": "stdout",
     "output_type": "stream",
     "text": [
      "age           21.25\n",
      "salary    220000.00\n",
      "dtype: float64\n"
     ]
    }
   ],
   "source": [
    "aggregation=df.agg({'age':'mean','salary':'sum'})\n",
    "print(aggregation)"
   ]
  },
  {
   "cell_type": "markdown",
   "id": "7946ae45-66a1-45a3-930b-1ce4341aa4b1",
   "metadata": {},
   "source": [
    "#### Merging and Joining DataFrames:\n",
    "##### Concatenation:"
   ]
  },
  {
   "cell_type": "code",
   "execution_count": 61,
   "id": "ef956b56-4f81-4dbd-a23d-345ceb2320d3",
   "metadata": {},
   "outputs": [
    {
     "name": "stdout",
     "output_type": "stream",
     "text": [
      "    name  age city  salary\n",
      "0  alice   23  NaN   50000\n",
      "1   mani   20  NaN   60000\n",
      "2   vasu   21  NaN   70000\n",
      "3   ravi   21  NaN   40000\n",
      "4  vamsi   21  kdp   65000\n"
     ]
    }
   ],
   "source": [
    "df2=pd.DataFrame({'name':['vamsi'],'age':[21],'city':['kdp'],'salary':[65000]})\n",
    "concatenated=pd.concat([df,df2],ignore_index=True)\n",
    "print(concatenated)"
   ]
  },
  {
   "attachments": {},
   "cell_type": "markdown",
   "id": "c840a0c5-6f69-48b5-ac1c-c80bc3f271d0",
   "metadata": {},
   "source": [
    "#### Merging:"
   ]
  },
  {
   "cell_type": "code",
   "execution_count": 113,
   "id": "7acc528d-b5e6-4f71-ac34-301048437b62",
   "metadata": {},
   "outputs": [
    {
     "name": "stdout",
     "output_type": "stream",
     "text": [
      "Empty DataFrame\n",
      "Columns: [city, population_x, population_y]\n",
      "Index: []\n"
     ]
    }
   ],
   "source": [
    "df3=pd.DataFrame({'city':['NaN','kdp'],'population':[45000,54000]})\n",
    "merged=pd.merge(df,df3,on='city')\n",
    "print(merged)\n",
    "\n",
    "#here we have an value erorr You are trying to merge on float64 and object columns for key 'city'."
   ]
  },
  {
   "cell_type": "markdown",
   "id": "61c2c6a7-c035-4c09-8297-fcd7cec0cdd1",
   "metadata": {},
   "source": [
    "###### You are trying to merge on float64 and object columns for key 'city' occurs because the city column in df and df3 have different data types. One of them is float64 and the other is object, which means that they can't be merged directly.\n",
    "\n",
    "###### This issue often happens if NaN values are present, as NaN is interpreted as float64 in Pandas, which can create a mismatch if the other column has object data type."
   ]
  },
  {
   "cell_type": "code",
   "execution_count": 109,
   "id": "276e51b9-9aac-42bc-961b-a576b27d3e71",
   "metadata": {},
   "outputs": [],
   "source": [
    "import warnings\n",
    "warnings.filterwarnings('ignore')"
   ]
  },
  {
   "cell_type": "code",
   "execution_count": 117,
   "id": "925b87c7-c890-489b-983d-c71572d43136",
   "metadata": {},
   "outputs": [
    {
     "name": "stdout",
     "output_type": "stream",
     "text": [
      "  city  population_x  population_y\n",
      "0  nan        100000         45000\n"
     ]
    }
   ],
   "source": [
    "import pandas as pd\n",
    "import numpy as np\n",
    "\n",
    "# Create the dataframes\n",
    "df = pd.DataFrame({'city': ['NaN', 'hyd'], 'population': [100000, 200000]})\n",
    "df3 = pd.DataFrame({'city': ['NaN', 'kdp'], 'population': [45000, 54000]})\n",
    "\n",
    "# Replace 'NaN' strings with actual NaN values\n",
    "df['city'].replace('NaN', np.nan, inplace=True)\n",
    "df3['city'].replace('NaN', np.nan, inplace=True)\n",
    "\n",
    "# Convert city columns to string type to ensure compatibility for merging\n",
    "df['city'] = df['city'].astype(str)\n",
    "df3['city'] = df3['city'].astype(str)\n",
    "\n",
    "# Merge the dataframes\n",
    "merged = pd.merge(df, df3, on='city')\n",
    "print(merged)\n"
   ]
  },
  {
   "cell_type": "markdown",
   "id": "714c9f5b-e383-477d-8d34-d507d33021d4",
   "metadata": {},
   "source": [
    "#### Data Visualization\n",
    "###### Basic plotting:\n",
    "Using Matplotlib with pandas for visualization."
   ]
  },
  {
   "cell_type": "code",
   "execution_count": 129,
   "id": "d7f80de0-082b-45ca-ad19-7bfb7fdf64ef",
   "metadata": {},
   "outputs": [],
   "source": [
    "import matplotlib.pyplot as plt"
   ]
  },
  {
   "cell_type": "code",
   "execution_count": 141,
   "id": "61401046-8e25-4349-aa77-0c68caa81aa5",
   "metadata": {},
   "outputs": [
    {
     "data": {
      "image/png": "[encoded data removed]",
      "text/plain": [
       "<Figure size 640x480 with 1 Axes>"
      ]
     },
     "metadata": {},
     "output_type": "display_data"
    }
   ],
   "source": [
    "df.plot(x='city',y='population',kind='bar')\n",
    "plt.title('salaries by name')\n",
    "plt.ylabel('population')\n",
    "plt.show()"
   ]
  },
  {
   "cell_type": "markdown",
   "id": "228cd353-1044-45ac-801d-c39143df714d",
   "metadata": {},
   "source": [
    "#### Time Series Data\n",
    "##### Creating Time Series:"
   ]
  },
  {
   "cell_type": "code",
   "execution_count": 165,
   "id": "72fdfb2e-8a72-4597-a944-83861e2ead2b",
   "metadata": {},
   "outputs": [
    {
     "name": "stdout",
     "output_type": "stream",
     "text": [
      "2024-01-01    100\n",
      "2024-01-02    200\n",
      "2024-01-03    300\n",
      "2024-01-04    400\n",
      "2024-01-05    500\n",
      "2024-01-06    600\n",
      "Freq: D, dtype: int64\n"
     ]
    }
   ],
   "source": [
    "dates=pd.date_range('2024-01-01',periods=6)\n",
    "time_series=pd.Series([100,200,300,400,500,600],index=dates)\n",
    "print(time_series)"
   ]
  },
  {
   "cell_type": "markdown",
   "id": "5f77c398-3611-428b-9031-e4b6183c9b20",
   "metadata": {},
   "source": [
    "#### Resampling Time Series:"
   ]
  },
  {
   "cell_type": "code",
   "execution_count": 167,
   "id": "916494db-619a-4bcf-9cf7-e71897db2516",
   "metadata": {},
   "outputs": [
    {
     "name": "stdout",
     "output_type": "stream",
     "text": [
      "2024-01-01     300\n",
      "2024-01-03     700\n",
      "2024-01-05    1100\n",
      "Freq: 2D, dtype: int64\n"
     ]
    }
   ],
   "source": [
    "resampled=time_series.resample('2D').sum()\n",
    "print(resampled)"
   ]
  },
  {
   "cell_type": "markdown",
   "id": "0834ae12-5e9e-48d7-bc11-e9d4470dc6a8",
   "metadata": {},
   "source": [
    "### File I/O with pandas:\n",
    "##### Reading CSV files:"
   ]
  },
  {
   "cell_type": "code",
   "execution_count": null,
   "id": "14eb9df6-cdbd-43f2-9de1-e570c57694a2",
   "metadata": {},
   "outputs": [],
   "source": [
    "df_file_csv=pd.read_csv('give file path')\n",
    "print(df_file_csv)# then file will be execute\n"
   ]
  },
  {
   "cell_type": "markdown",
   "id": "71f7683d-5944-4dcb-8ec4-5f8ce6a9c963",
   "metadata": {},
   "source": [
    "#### Writing to CSV files:"
   ]
  },
  {
   "cell_type": "code",
   "execution_count": null,
   "id": "62bd1975-533b-4e16-9408-5bd80d342f2c",
   "metadata": {},
   "outputs": [],
   "source": [
    "df.to_csv('output.csv',index=False) # save dataframe to csv file without index"
   ]
  },
  {
   "cell_type": "markdown",
   "id": "c8e56e7d-b5d0-4a1d-931d-3db4f878ac83",
   "metadata": {},
   "source": [
    "#### Applying Function\n",
    "##### USing apply():"
   ]
  },
  {
   "cell_type": "code",
   "execution_count": 181,
   "id": "c9849e61-dc98-4179-9ac9-70f9b90ae016",
   "metadata": {},
   "outputs": [
    {
     "name": "stdout",
     "output_type": "stream",
     "text": [
      "  city  population  salary after tax  over all population tax\n",
      "0  nan      100000           80000.0                  80000.0\n",
      "1  hyd      200000          160000.0                 160000.0\n"
     ]
    }
   ],
   "source": [
    "df['over all population tax']=df['population'].apply(lambda x:x*0.8)\n",
    "#apply function to each elemnt\n",
    "print(df)"
   ]
  },
  {
   "cell_type": "markdown",
   "id": "1010ec60-021c-4751-96d5-2dce48cf0f50",
   "metadata": {},
   "source": [
    "#### String Manipulation\n",
    "##### String operations:"
   ]
  },
  {
   "cell_type": "code",
   "execution_count": 183,
   "id": "db4c0136-8f4c-44ab-b0c4-473656ec3b9a",
   "metadata": {},
   "outputs": [
    {
     "name": "stdout",
     "output_type": "stream",
     "text": [
      "  city  population  salary after tax  over all population tax city upper\n",
      "0  nan      100000           80000.0                  80000.0        NAN\n",
      "1  hyd      200000          160000.0                 160000.0        HYD\n"
     ]
    }
   ],
   "source": [
    "df['city upper']=df['city'].str.upper()\n",
    "#Convert citys to uppercase\n",
    "print(df)"
   ]
  },
  {
   "cell_type": "markdown",
   "id": "5c020783-8dcd-4e04-b8c8-67defe1cc076",
   "metadata": {},
   "source": [
    "#### String replacement:"
   ]
  },
  {
   "cell_type": "code",
   "execution_count": 191,
   "id": "85687799-06e4-434f-8e11-c1c26d306974",
   "metadata": {},
   "outputs": [
    {
     "name": "stdout",
     "output_type": "stream",
     "text": [
      "  city  population  salary after tax  over all population tax city upper\n",
      "0  SNK      100000           80000.0                  80000.0        NAN\n",
      "1  HYD      200000          160000.0                 160000.0        HYD\n"
     ]
    }
   ],
   "source": [
    "df['city']=df['city'].str.replace('hyd','HYD')\n",
    "#replace city names\n",
    "print(df)"
   ]
  },
  {
   "cell_type": "markdown",
   "id": "253ec03b-1d99-42d7-b2e2-c19f1d5d4a8a",
   "metadata": {},
   "source": [
    "#### Categorical Data\n",
    "##### Creating categorical data:"
   ]
  },
  {
   "cell_type": "code",
   "execution_count": 193,
   "id": "abc7bf1f-896c-4dec-8264-ac630493f87c",
   "metadata": {},
   "outputs": [
    {
     "name": "stdout",
     "output_type": "stream",
     "text": [
      "0    1\n",
      "1    0\n",
      "dtype: int8\n"
     ]
    }
   ],
   "source": [
    "df['city']=df['city'].astype('category')\n",
    "# Convert city column to categorical\n",
    "print(df['city'].cat.codes)\n",
    "#Display categorical codes"
   ]
  },
  {
   "cell_type": "markdown",
   "id": "70e5a700-ecec-4fa1-be07-db1dde587872",
   "metadata": {},
   "source": [
    "#### Advanced Indexing and Selection\n",
    "##### MultiIndex:"
   ]
  },
  {
   "cell_type": "code",
   "execution_count": 199,
   "id": "4483cdb3-8c5d-4e9e-aa7f-112ffb0b56cf",
   "metadata": {},
   "outputs": [
    {
     "name": "stdout",
     "output_type": "stream",
     "text": [
      "              data\n",
      "first second      \n",
      "A     one        1\n",
      "      two        2\n",
      "B     three      3\n",
      "      four       4\n"
     ]
    }
   ],
   "source": [
    "arrays=[['A','A','B','B'],['one','two','three','four']]\n",
    "index=pd.MultiIndex.from_arrays(arrays,names=('first','second'))\n",
    "df_multi=pd.DataFrame({'data':[1,2,3,4]},index=index)\n",
    "print(df_multi)"
   ]
  },
  {
   "cell_type": "markdown",
   "id": "70ad2ec9-c31d-4520-8bb6-5b89c7b53d72",
   "metadata": {},
   "source": [
    "#### Selecting Data With MultiIndex:"
   ]
  },
  {
   "cell_type": "code",
   "execution_count": 201,
   "id": "e7c2ee53-c5a4-4e21-bf7d-3cb15d93129e",
   "metadata": {},
   "outputs": [
    {
     "name": "stdout",
     "output_type": "stream",
     "text": [
      "        data\n",
      "second      \n",
      "one        1\n",
      "two        2\n"
     ]
    }
   ],
   "source": [
    "print(df_multi.loc['A'])#slect all data for index 'a'"
   ]
  },
  {
   "cell_type": "markdown",
   "id": "4335525e-72db-4588-9d0b-fc622630cfc3",
   "metadata": {},
   "source": [
    "#### Reshaping Data:\n",
    "##### Using melt():"
   ]
  },
  {
   "cell_type": "code",
   "execution_count": 215,
   "id": "ff391dd4-d116-417a-a6f9-1769582b7611",
   "metadata": {},
   "outputs": [
    {
     "name": "stdout",
     "output_type": "stream",
     "text": [
      "  city    variable   value\n",
      "0  SNK  population  100000\n",
      "1  HYD  population  200000\n"
     ]
    }
   ],
   "source": [
    "df_melted=df.melt(id_vars=['city'],value_vars=['population'],var_name='variable'\n",
    ",value_name='value')\n",
    "print(df_melted)"
   ]
  },
  {
   "cell_type": "markdown",
   "id": "38254899-4f05-4083-a4e5-72833a20db39",
   "metadata": {},
   "source": [
    "#### Common Methods And Functions\n",
    "##### Basic Descriptive statistics:"
   ]
  },
  {
   "cell_type": "code",
   "execution_count": 217,
   "id": "e1e67dac-4d27-4930-ab5a-91269c90530c",
   "metadata": {},
   "outputs": [
    {
     "name": "stdout",
     "output_type": "stream",
     "text": [
      "          population  salary after tax  over all population tax\n",
      "count       2.000000          2.000000                 2.000000\n",
      "mean   150000.000000     120000.000000            120000.000000\n",
      "std     70710.678119      56568.542495             56568.542495\n",
      "min    100000.000000      80000.000000             80000.000000\n",
      "25%    125000.000000     100000.000000            100000.000000\n",
      "50%    150000.000000     120000.000000            120000.000000\n",
      "75%    175000.000000     140000.000000            140000.000000\n",
      "max    200000.000000     160000.000000            160000.000000\n"
     ]
    }
   ],
   "source": [
    "print(df.describe())# summary statistics for numarical columns"
   ]
  },
  {
   "cell_type": "markdown",
   "id": "0d838fb5-c110-4b7b-808e-1f3827ecff11",
   "metadata": {},
   "source": [
    "##### Getting Unique Values:\n",
    "get unique values from city"
   ]
  },
  {
   "cell_type": "code",
   "execution_count": 221,
   "id": "907299ca-d922-4605-a140-9b4b1e7a15fa",
   "metadata": {},
   "outputs": [
    {
     "name": "stdout",
     "output_type": "stream",
     "text": [
      "['SNK', 'HYD']\n",
      "Categories (2, object): ['HYD', 'SNK']\n"
     ]
    }
   ],
   "source": [
    "unique_cities=df['city'].unique()\n",
    "print(unique_cities)"
   ]
  },
  {
   "cell_type": "markdown",
   "id": "2529629e-5840-40dc-b1f9-16630e2e9554",
   "metadata": {},
   "source": [
    "#### Counting values:\n",
    "count pccurrences of each unique value"
   ]
  },
  {
   "cell_type": "code",
   "execution_count": 223,
   "id": "e26a4aab-9036-4bac-9099-7da375d43bbd",
   "metadata": {},
   "outputs": [
    {
     "name": "stdout",
     "output_type": "stream",
     "text": [
      "city\n",
      "HYD    1\n",
      "SNK    1\n",
      "Name: count, dtype: int64\n"
     ]
    }
   ],
   "source": [
    "city_counts=df['city'].value_counts()\n",
    "print(city_counts)"
   ]
  },
  {
   "cell_type": "markdown",
   "id": "6eb15e50-ad1e-44d7-8456-af448439795b",
   "metadata": {},
   "source": [
    "#### ADVANCED GROUPING TECHNIQUES\n",
    "##### Using groupby() with multiple columns:"
   ]
  },
  {
   "cell_type": "code",
   "execution_count": 227,
   "id": "838ee2d2-7e85-48a3-b28a-961301719b11",
   "metadata": {},
   "outputs": [
    {
     "name": "stdout",
     "output_type": "stream",
     "text": [
      "Empty DataFrame\n",
      "Columns: [population, salary after tax, over all population tax, city upper]\n",
      "Index: []\n"
     ]
    }
   ],
   "source": [
    "df['city'] = pd.to_numeric(df['city'], errors='coerce')\n",
    "df['Department']=['HR','Finance']\n",
    "grouped_multi=df.groupby(['city','Department']).mean()\n",
    "print(grouped_multi)"
   ]
  },
  {
   "cell_type": "code",
   "execution_count": 229,
   "id": "38e08002-4456-421c-bf17-ad7292e5f649",
   "metadata": {},
   "outputs": [
    {
     "data": {
      "text/plain": [
       "Index(['city', 'population', 'salary after tax', 'over all population tax',\n",
       "       'city upper', 'Department'],\n",
       "      dtype='object')"
      ]
     },
     "execution_count": 229,
     "metadata": {},
     "output_type": "execute_result"
    }
   ],
   "source": [
    "df.columns"
   ]
  },
  {
   "cell_type": "markdown",
   "id": "e9c5056d-5635-48a1-addf-1a3adb652cbd",
   "metadata": {},
   "source": [
    "#### Data Frame Indexing Techniques\n",
    "##### using .iloc[] for position-based indexing:\n",
    "Output will show the first row data"
   ]
  },
  {
   "cell_type": "code",
   "execution_count": 239,
   "id": "6d4cea84-21af-4077-8e2f-6b724ce148b3",
   "metadata": {},
   "outputs": [
    {
     "name": "stdout",
     "output_type": "stream",
     "text": [
      "city                           NaN\n",
      "population                  100000\n",
      "salary after tax           80000.0\n",
      "over all population tax    80000.0\n",
      "city upper                     NAN\n",
      "Department                      HR\n",
      "Name: 0, dtype: object\n"
     ]
    }
   ],
   "source": [
    "print(df.iloc[0])"
   ]
  },
  {
   "cell_type": "markdown",
   "id": "5a3b656a-02de-4dfa-84ec-0514243be8d8",
   "metadata": {},
   "source": [
    "#### using.loc[] for label-based Indexing:\n",
    " Access name of the first row"
   ]
  },
  {
   "cell_type": "code",
   "execution_count": 245,
   "id": "84792788-689a-4c46-9c5f-858bc73d8262",
   "metadata": {},
   "outputs": [
    {
     "name": "stdout",
     "output_type": "stream",
     "text": [
      "HR\n"
     ]
    }
   ],
   "source": [
    "print(df.loc[0,'Department'])"
   ]
  },
  {
   "cell_type": "code",
   "execution_count": null,
   "id": "55707864-2764-4cfd-be99-ceb69cf01177",
   "metadata": {},
   "outputs": [],
   "source": []
  },
  {
   "cell_type": "code",
   "execution_count": null,
   "id": "2edfe3bc-07b4-4a86-96f0-9d00285edd75",
   "metadata": {},
   "outputs": [],
   "source": []
  }
 ],
 "metadata": {
  "kernelspec": {
   "display_name": "Python 3 (ipykernel)",
   "language": "python",
   "name": "python3"
  },
  "language_info": {
   "codemirror_mode": {
    "name": "ipython",
    "version": 3
   },
   "file_extension": ".py",
   "mimetype": "text/x-python",
   "name": "python",
   "nbconvert_exporter": "python",
   "pygments_lexer": "ipython3",
   "version": "3.12.4"
  }
 },
 "nbformat": 4,
 "nbformat_minor": 5
}
